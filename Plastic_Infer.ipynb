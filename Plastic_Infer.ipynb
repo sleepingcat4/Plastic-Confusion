{
  "nbformat": 4,
  "nbformat_minor": 0,
  "metadata": {
    "colab": {
      "provenance": []
    },
    "kernelspec": {
      "name": "python3",
      "display_name": "Python 3"
    },
    "language_info": {
      "name": "python"
    }
  },
  "cells": [
    {
      "cell_type": "code",
      "execution_count": null,
      "metadata": {
        "id": "NK2uScxFoduo"
      },
      "outputs": [],
      "source": [
        "!pip install gradio"
      ]
    },
    {
      "cell_type": "code",
      "source": [
        "import gradio as gr\n",
        "import tensorflow as tf\n"
      ],
      "metadata": {
        "id": "p3vYdNloogk5"
      },
      "execution_count": null,
      "outputs": []
    },
    {
      "cell_type": "code",
      "source": [
        "model = tf.keras.models.load_model('mist.h5')\n"
      ],
      "metadata": {
        "id": "59n13Elzoi9d"
      },
      "execution_count": null,
      "outputs": []
    },
    {
      "cell_type": "code",
      "source": [
        "def predict(image):\n",
        "    # Preprocess the input image (normalize, reshape, etc.)\n",
        "    image = image.astype('float32') / 255.0\n",
        "    image = image.reshape((-1, 28, 28, 1))\n",
        "   \n",
        "    # Perform the prediction using the loaded model\n",
        "    prediction = model.predict(image)\n",
        "   \n",
        "    # Return the predicted label\n",
        "    return prediction[0]\n"
      ],
      "metadata": {
        "id": "oLC6IBY6okFH"
      },
      "execution_count": null,
      "outputs": []
    },
    {
      "cell_type": "code",
      "source": [
        "iface = gr.Interface(\n",
        "    fn=predict,\n",
        "    inputs=\"image\",\n",
        "    outputs=\"label\",\n",
        "    capture_session=True\n",
        ")\n"
      ],
      "metadata": {
        "id": "kOOdS_fNolkv"
      },
      "execution_count": null,
      "outputs": []
    },
    {
      "cell_type": "code",
      "source": [
        "iface.launch()\n"
      ],
      "metadata": {
        "id": "p2yFfq_uonBK"
      },
      "execution_count": null,
      "outputs": []
    }
  ]
}