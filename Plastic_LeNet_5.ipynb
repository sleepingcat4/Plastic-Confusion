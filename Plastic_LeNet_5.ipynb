{
  "nbformat": 4,
  "nbformat_minor": 0,
  "metadata": {
    "colab": {
      "provenance": [],
      "gpuType": "T4"
    },
    "kernelspec": {
      "name": "python3",
      "display_name": "Python 3"
    },
    "language_info": {
      "name": "python"
    },
    "accelerator": "GPU",
    "gpuClass": "standard"
  },
  "cells": [
    {
      "cell_type": "markdown",
      "source": [
        "In this notebook, we'll dive deep into how to train an image classifier to attain the highest possible accuracy both during training and testing. "
      ],
      "metadata": {
        "id": "pwB_j2wFes37"
      }
    },
    {
      "cell_type": "markdown",
      "source": [
        "**Importing required libraries**"
      ],
      "metadata": {
        "id": "vkddkyYRe5EB"
      }
    },
    {
      "cell_type": "code",
      "source": [
        "import tensorflow as tf\n",
        "from tensorflow.keras import layers, initializers, callbacks\n",
        "from tensorflow.keras.datasets import mnist\n",
        "import matplotlib.pyplot as plt"
      ],
      "metadata": {
        "id": "FuIndJWyesLK"
      },
      "execution_count": 1,
      "outputs": []
    },
    {
      "cell_type": "markdown",
      "source": [
        "loading and viewing a few smaples from the MNIST dataset. By the way, remember MNIST dataset has 2 colour channels and so do LeNet-5 architecture. Which is why, if you're dealing with a 3-colour channel dataset, please convert the dataset into grayscale before feeding it to this model. otherwise you'll be present with a dimension mismatch error"
      ],
      "metadata": {
        "id": "j6wz4S5MfJr8"
      }
    },
    {
      "cell_type": "markdown",
      "source": [
        "**loading mnist dataset**"
      ],
      "metadata": {
        "id": "8JUINU8ffhLf"
      }
    },
    {
      "cell_type": "code",
      "source": [
        "(x_train, y_train), (x_test, y_test) = mnist.load_data()"
      ],
      "metadata": {
        "id": "sIubpVIqfgX1"
      },
      "execution_count": 2,
      "outputs": []
    },
    {
      "cell_type": "markdown",
      "source": [
        "**normalising the dataset**"
      ],
      "metadata": {
        "id": "tt-AcBPJf4-d"
      }
    },
    {
      "cell_type": "code",
      "source": [
        "x_train = x_train.astype('float32') / 255.0\n",
        "x_test = x_test.astype('float32') / 255.0\n",
        "x_train = x_train.reshape((-1, 28, 28, 1))\n",
        "x_test = x_test.reshape((-1, 28, 28, 1))"
      ],
      "metadata": {
        "id": "4oXHQlSof8Jp"
      },
      "execution_count": 3,
      "outputs": []
    },
    {
      "cell_type": "markdown",
      "source": [
        "Now, we'll write the model architecture. In this, architecture "
      ],
      "metadata": {
        "id": "XGgRQjyZgAcD"
      }
    },
    {
      "cell_type": "code",
      "source": [
        "model = tf.keras.Sequential([\n",
        "    layers.Conv2D(6, kernel_size=(5, 5), strides=(1, 1), activation='relu', kernel_initializer='glorot_uniform'),\n",
        "    layers.MaxPooling2D(pool_size=(2, 2), strides=(2, 2)),\n",
        "    layers.Conv2D(16, kernel_size=(5, 5), strides=(1, 1), activation='relu', kernel_initializer='glorot_uniform'),\n",
        "    layers.MaxPooling2D(pool_size=(2, 2), strides=(2, 2)),\n",
        "    layers.Flatten(),\n",
        "    layers.Dense(120, activation='relu', kernel_initializer='glorot_uniform'),\n",
        "    layers.Dense(84, activation='relu', kernel_initializer='glorot_uniform'),\n",
        "    layers.Dense(10, activation='softmax', kernel_initializer='glorot_uniform')\n",
        "])"
      ],
      "metadata": {
        "id": "8q8Qbz8Dgjy9"
      },
      "execution_count": 4,
      "outputs": []
    },
    {
      "cell_type": "markdown",
      "source": [
        "Now, we'll build the model with the input shape and show the summary"
      ],
      "metadata": {
        "id": "9CwiILoksQ9j"
      }
    },
    {
      "cell_type": "code",
      "source": [
        "model.build(input_shape=(None, 28, 28, 1))"
      ],
      "metadata": {
        "id": "j9prc6wygrR6"
      },
      "execution_count": 5,
      "outputs": []
    },
    {
      "cell_type": "markdown",
      "source": [
        "printing the summary"
      ],
      "metadata": {
        "id": "dvWl9WoJsiNV"
      }
    },
    {
      "cell_type": "code",
      "source": [
        "model.summary()"
      ],
      "metadata": {
        "colab": {
          "base_uri": "https://localhost:8080/"
        },
        "id": "atstidDnhDAC",
        "outputId": "5ebb3dae-3887-41ba-a774-f36d13f05d24"
      },
      "execution_count": 6,
      "outputs": [
        {
          "output_type": "stream",
          "name": "stdout",
          "text": [
            "Model: \"sequential\"\n",
            "_________________________________________________________________\n",
            " Layer (type)                Output Shape              Param #   \n",
            "=================================================================\n",
            " conv2d (Conv2D)             (None, 24, 24, 6)         156       \n",
            "                                                                 \n",
            " max_pooling2d (MaxPooling2D  (None, 12, 12, 6)        0         \n",
            " )                                                               \n",
            "                                                                 \n",
            " conv2d_1 (Conv2D)           (None, 8, 8, 16)          2416      \n",
            "                                                                 \n",
            " max_pooling2d_1 (MaxPooling  (None, 4, 4, 16)         0         \n",
            " 2D)                                                             \n",
            "                                                                 \n",
            " flatten (Flatten)           (None, 256)               0         \n",
            "                                                                 \n",
            " dense (Dense)               (None, 120)               30840     \n",
            "                                                                 \n",
            " dense_1 (Dense)             (None, 84)                10164     \n",
            "                                                                 \n",
            " dense_2 (Dense)             (None, 10)                850       \n",
            "                                                                 \n",
            "=================================================================\n",
            "Total params: 44,426\n",
            "Trainable params: 44,426\n",
            "Non-trainable params: 0\n",
            "_________________________________________________________________\n"
          ]
        }
      ]
    },
    {
      "cell_type": "markdown",
      "source": [
        "###### **Compiling, writing callbacks and fitting the model**"
      ],
      "metadata": {
        "id": "nowin14PsxPZ"
      }
    },
    {
      "cell_type": "code",
      "source": [
        "model.compile(optimizer='adam', loss='sparse_categorical_crossentropy', metrics=['accuracy'])"
      ],
      "metadata": {
        "id": "q7M3KHS2gmu1"
      },
      "execution_count": 7,
      "outputs": []
    },
    {
      "cell_type": "code",
      "source": [
        "early_stopping = callbacks.EarlyStopping(monitor='val_accuracy', patience=3, restore_best_weights=True)\n",
        "reduce_lr = callbacks.ReduceLROnPlateau(monitor='val_accuracy', factor=0.2, patience=2, min_lr=1e-6)"
      ],
      "metadata": {
        "id": "G1c840hOh079"
      },
      "execution_count": 8,
      "outputs": []
    },
    {
      "cell_type": "markdown",
      "source": [
        "We're training the model for 250 epochs (advised by University of Amsterdam) to receive a convergence within the dataset. But, since we're using early stopping callback, we can prevent the chance of overfitting."
      ],
      "metadata": {
        "id": "MxyzK3wmtlI3"
      }
    },
    {
      "cell_type": "code",
      "source": [
        "history = model.fit(x_train, y_train, batch_size=128, epochs=250, validation_data=(x_test, y_test))"
      ],
      "metadata": {
        "colab": {
          "base_uri": "https://localhost:8080/"
        },
        "id": "4tNvimrlhHO6",
        "outputId": "9e562097-3adb-488f-f06b-8c12039f7f06"
      },
      "execution_count": 9,
      "outputs": [
        {
          "output_type": "stream",
          "name": "stdout",
          "text": [
            "Epoch 1/250\n",
            "469/469 [==============================] - 12s 11ms/step - loss: 0.3618 - accuracy: 0.8899 - val_loss: 0.0958 - val_accuracy: 0.9697\n",
            "Epoch 2/250\n",
            "469/469 [==============================] - 3s 7ms/step - loss: 0.0907 - accuracy: 0.9722 - val_loss: 0.0672 - val_accuracy: 0.9798\n",
            "Epoch 3/250\n",
            "469/469 [==============================] - 2s 4ms/step - loss: 0.0643 - accuracy: 0.9809 - val_loss: 0.0500 - val_accuracy: 0.9836\n",
            "Epoch 4/250\n",
            "469/469 [==============================] - 2s 5ms/step - loss: 0.0513 - accuracy: 0.9838 - val_loss: 0.0423 - val_accuracy: 0.9863\n",
            "Epoch 5/250\n",
            "469/469 [==============================] - 2s 5ms/step - loss: 0.0427 - accuracy: 0.9865 - val_loss: 0.0445 - val_accuracy: 0.9858\n",
            "Epoch 6/250\n",
            "469/469 [==============================] - 2s 5ms/step - loss: 0.0361 - accuracy: 0.9886 - val_loss: 0.0358 - val_accuracy: 0.9887\n",
            "Epoch 7/250\n",
            "469/469 [==============================] - 2s 4ms/step - loss: 0.0309 - accuracy: 0.9903 - val_loss: 0.0396 - val_accuracy: 0.9865\n",
            "Epoch 8/250\n",
            "469/469 [==============================] - 2s 4ms/step - loss: 0.0270 - accuracy: 0.9915 - val_loss: 0.0386 - val_accuracy: 0.9881\n",
            "Epoch 9/250\n",
            "469/469 [==============================] - 2s 5ms/step - loss: 0.0248 - accuracy: 0.9922 - val_loss: 0.0346 - val_accuracy: 0.9896\n",
            "Epoch 10/250\n",
            "469/469 [==============================] - 2s 5ms/step - loss: 0.0202 - accuracy: 0.9937 - val_loss: 0.0439 - val_accuracy: 0.9869\n",
            "Epoch 11/250\n",
            "469/469 [==============================] - 2s 5ms/step - loss: 0.0191 - accuracy: 0.9936 - val_loss: 0.0420 - val_accuracy: 0.9864\n",
            "Epoch 12/250\n",
            "469/469 [==============================] - 2s 4ms/step - loss: 0.0163 - accuracy: 0.9946 - val_loss: 0.0407 - val_accuracy: 0.9885\n",
            "Epoch 13/250\n",
            "469/469 [==============================] - 2s 5ms/step - loss: 0.0145 - accuracy: 0.9952 - val_loss: 0.0353 - val_accuracy: 0.9896\n",
            "Epoch 14/250\n",
            "469/469 [==============================] - 2s 4ms/step - loss: 0.0136 - accuracy: 0.9953 - val_loss: 0.0354 - val_accuracy: 0.9896\n",
            "Epoch 15/250\n",
            "469/469 [==============================] - 2s 4ms/step - loss: 0.0113 - accuracy: 0.9963 - val_loss: 0.0336 - val_accuracy: 0.9899\n",
            "Epoch 16/250\n",
            "469/469 [==============================] - 3s 5ms/step - loss: 0.0104 - accuracy: 0.9966 - val_loss: 0.0396 - val_accuracy: 0.9890\n",
            "Epoch 17/250\n",
            "469/469 [==============================] - 2s 5ms/step - loss: 0.0089 - accuracy: 0.9973 - val_loss: 0.0379 - val_accuracy: 0.9888\n",
            "Epoch 18/250\n",
            "469/469 [==============================] - 2s 4ms/step - loss: 0.0106 - accuracy: 0.9963 - val_loss: 0.0469 - val_accuracy: 0.9872\n",
            "Epoch 19/250\n",
            "469/469 [==============================] - 2s 4ms/step - loss: 0.0094 - accuracy: 0.9968 - val_loss: 0.0384 - val_accuracy: 0.9896\n",
            "Epoch 20/250\n",
            "469/469 [==============================] - 2s 5ms/step - loss: 0.0077 - accuracy: 0.9975 - val_loss: 0.0440 - val_accuracy: 0.9890\n",
            "Epoch 21/250\n",
            "469/469 [==============================] - 2s 5ms/step - loss: 0.0073 - accuracy: 0.9977 - val_loss: 0.0459 - val_accuracy: 0.9882\n",
            "Epoch 22/250\n",
            "469/469 [==============================] - 2s 5ms/step - loss: 0.0070 - accuracy: 0.9976 - val_loss: 0.0467 - val_accuracy: 0.9891\n",
            "Epoch 23/250\n",
            "469/469 [==============================] - 2s 4ms/step - loss: 0.0073 - accuracy: 0.9974 - val_loss: 0.0434 - val_accuracy: 0.9898\n",
            "Epoch 24/250\n",
            "469/469 [==============================] - 2s 4ms/step - loss: 0.0058 - accuracy: 0.9981 - val_loss: 0.0502 - val_accuracy: 0.9889\n",
            "Epoch 25/250\n",
            "469/469 [==============================] - 2s 5ms/step - loss: 0.0086 - accuracy: 0.9972 - val_loss: 0.0395 - val_accuracy: 0.9902\n",
            "Epoch 26/250\n",
            "469/469 [==============================] - 2s 5ms/step - loss: 0.0048 - accuracy: 0.9984 - val_loss: 0.0472 - val_accuracy: 0.9880\n",
            "Epoch 27/250\n",
            "469/469 [==============================] - 3s 6ms/step - loss: 0.0070 - accuracy: 0.9978 - val_loss: 0.0535 - val_accuracy: 0.9881\n",
            "Epoch 28/250\n",
            "469/469 [==============================] - 2s 4ms/step - loss: 0.0054 - accuracy: 0.9982 - val_loss: 0.0439 - val_accuracy: 0.9892\n",
            "Epoch 29/250\n",
            "469/469 [==============================] - 2s 4ms/step - loss: 0.0057 - accuracy: 0.9981 - val_loss: 0.0435 - val_accuracy: 0.9888\n",
            "Epoch 30/250\n",
            "469/469 [==============================] - 2s 4ms/step - loss: 0.0032 - accuracy: 0.9990 - val_loss: 0.0465 - val_accuracy: 0.9902\n",
            "Epoch 31/250\n",
            "469/469 [==============================] - 2s 4ms/step - loss: 0.0069 - accuracy: 0.9974 - val_loss: 0.0594 - val_accuracy: 0.9878\n",
            "Epoch 32/250\n",
            "469/469 [==============================] - 2s 4ms/step - loss: 0.0062 - accuracy: 0.9977 - val_loss: 0.0495 - val_accuracy: 0.9884\n",
            "Epoch 33/250\n",
            "469/469 [==============================] - 3s 5ms/step - loss: 0.0028 - accuracy: 0.9992 - val_loss: 0.0490 - val_accuracy: 0.9909\n",
            "Epoch 34/250\n",
            "469/469 [==============================] - 2s 5ms/step - loss: 0.0043 - accuracy: 0.9985 - val_loss: 0.0479 - val_accuracy: 0.9899\n",
            "Epoch 35/250\n",
            "469/469 [==============================] - 2s 4ms/step - loss: 0.0034 - accuracy: 0.9987 - val_loss: 0.0500 - val_accuracy: 0.9898\n",
            "Epoch 36/250\n",
            "469/469 [==============================] - 2s 4ms/step - loss: 0.0036 - accuracy: 0.9988 - val_loss: 0.0529 - val_accuracy: 0.9888\n",
            "Epoch 37/250\n",
            "469/469 [==============================] - 2s 5ms/step - loss: 0.0069 - accuracy: 0.9978 - val_loss: 0.0491 - val_accuracy: 0.9895\n",
            "Epoch 38/250\n",
            "469/469 [==============================] - 2s 5ms/step - loss: 0.0036 - accuracy: 0.9990 - val_loss: 0.0756 - val_accuracy: 0.9857\n",
            "Epoch 39/250\n",
            "469/469 [==============================] - 2s 5ms/step - loss: 0.0046 - accuracy: 0.9986 - val_loss: 0.0562 - val_accuracy: 0.9892\n",
            "Epoch 40/250\n",
            "469/469 [==============================] - 2s 4ms/step - loss: 0.0019 - accuracy: 0.9993 - val_loss: 0.0582 - val_accuracy: 0.9894\n",
            "Epoch 41/250\n",
            "469/469 [==============================] - 2s 5ms/step - loss: 0.0061 - accuracy: 0.9981 - val_loss: 0.0545 - val_accuracy: 0.9888\n",
            "Epoch 42/250\n",
            "469/469 [==============================] - 2s 4ms/step - loss: 0.0013 - accuracy: 0.9996 - val_loss: 0.0642 - val_accuracy: 0.9883\n",
            "Epoch 43/250\n",
            "469/469 [==============================] - 2s 5ms/step - loss: 0.0048 - accuracy: 0.9984 - val_loss: 0.0603 - val_accuracy: 0.9893\n",
            "Epoch 44/250\n",
            "469/469 [==============================] - 4s 8ms/step - loss: 0.0040 - accuracy: 0.9988 - val_loss: 0.0636 - val_accuracy: 0.9876\n",
            "Epoch 45/250\n",
            "469/469 [==============================] - 2s 4ms/step - loss: 0.0045 - accuracy: 0.9987 - val_loss: 0.0460 - val_accuracy: 0.9898\n",
            "Epoch 46/250\n",
            "469/469 [==============================] - 2s 5ms/step - loss: 0.0033 - accuracy: 0.9988 - val_loss: 0.0513 - val_accuracy: 0.9900\n",
            "Epoch 47/250\n",
            "469/469 [==============================] - 2s 4ms/step - loss: 0.0024 - accuracy: 0.9993 - val_loss: 0.0721 - val_accuracy: 0.9879\n",
            "Epoch 48/250\n",
            "469/469 [==============================] - 2s 5ms/step - loss: 0.0042 - accuracy: 0.9987 - val_loss: 0.0556 - val_accuracy: 0.9900\n",
            "Epoch 49/250\n",
            "469/469 [==============================] - 2s 5ms/step - loss: 0.0023 - accuracy: 0.9995 - val_loss: 0.0543 - val_accuracy: 0.9906\n",
            "Epoch 50/250\n",
            "469/469 [==============================] - 2s 5ms/step - loss: 0.0018 - accuracy: 0.9994 - val_loss: 0.0484 - val_accuracy: 0.9909\n",
            "Epoch 51/250\n",
            "469/469 [==============================] - 2s 4ms/step - loss: 0.0049 - accuracy: 0.9983 - val_loss: 0.0642 - val_accuracy: 0.9892\n",
            "Epoch 52/250\n",
            "469/469 [==============================] - 2s 5ms/step - loss: 0.0052 - accuracy: 0.9983 - val_loss: 0.0626 - val_accuracy: 0.9889\n",
            "Epoch 53/250\n",
            "469/469 [==============================] - 2s 4ms/step - loss: 0.0017 - accuracy: 0.9996 - val_loss: 0.0537 - val_accuracy: 0.9900\n",
            "Epoch 54/250\n",
            "469/469 [==============================] - 2s 5ms/step - loss: 0.0012 - accuracy: 0.9997 - val_loss: 0.0687 - val_accuracy: 0.9894\n",
            "Epoch 55/250\n",
            "469/469 [==============================] - 3s 6ms/step - loss: 0.0060 - accuracy: 0.9982 - val_loss: 0.0625 - val_accuracy: 0.9893\n",
            "Epoch 56/250\n",
            "469/469 [==============================] - 2s 4ms/step - loss: 8.5123e-04 - accuracy: 0.9997 - val_loss: 0.0574 - val_accuracy: 0.9904\n",
            "Epoch 57/250\n",
            "469/469 [==============================] - 2s 5ms/step - loss: 2.6565e-04 - accuracy: 0.9999 - val_loss: 0.0587 - val_accuracy: 0.9912\n",
            "Epoch 58/250\n",
            "469/469 [==============================] - 2s 4ms/step - loss: 4.1532e-05 - accuracy: 1.0000 - val_loss: 0.0563 - val_accuracy: 0.9912\n",
            "Epoch 59/250\n",
            "469/469 [==============================] - 2s 4ms/step - loss: 1.6272e-05 - accuracy: 1.0000 - val_loss: 0.0572 - val_accuracy: 0.9915\n",
            "Epoch 60/250\n",
            "469/469 [==============================] - 2s 4ms/step - loss: 1.1729e-05 - accuracy: 1.0000 - val_loss: 0.0584 - val_accuracy: 0.9913\n",
            "Epoch 61/250\n",
            "469/469 [==============================] - 3s 5ms/step - loss: 8.8962e-06 - accuracy: 1.0000 - val_loss: 0.0594 - val_accuracy: 0.9915\n",
            "Epoch 62/250\n",
            "469/469 [==============================] - 2s 4ms/step - loss: 7.1648e-06 - accuracy: 1.0000 - val_loss: 0.0603 - val_accuracy: 0.9915\n",
            "Epoch 63/250\n",
            "469/469 [==============================] - 2s 4ms/step - loss: 5.5183e-06 - accuracy: 1.0000 - val_loss: 0.0615 - val_accuracy: 0.9915\n",
            "Epoch 64/250\n",
            "469/469 [==============================] - 2s 5ms/step - loss: 4.6480e-06 - accuracy: 1.0000 - val_loss: 0.0623 - val_accuracy: 0.9914\n",
            "Epoch 65/250\n",
            "469/469 [==============================] - 2s 5ms/step - loss: 3.6395e-06 - accuracy: 1.0000 - val_loss: 0.0633 - val_accuracy: 0.9914\n",
            "Epoch 66/250\n",
            "469/469 [==============================] - 2s 5ms/step - loss: 2.8692e-06 - accuracy: 1.0000 - val_loss: 0.0642 - val_accuracy: 0.9914\n",
            "Epoch 67/250\n",
            "469/469 [==============================] - 2s 5ms/step - loss: 2.3378e-06 - accuracy: 1.0000 - val_loss: 0.0655 - val_accuracy: 0.9914\n",
            "Epoch 68/250\n",
            "469/469 [==============================] - 2s 4ms/step - loss: 1.8733e-06 - accuracy: 1.0000 - val_loss: 0.0663 - val_accuracy: 0.9914\n",
            "Epoch 69/250\n",
            "469/469 [==============================] - 2s 5ms/step - loss: 1.5279e-06 - accuracy: 1.0000 - val_loss: 0.0673 - val_accuracy: 0.9915\n",
            "Epoch 70/250\n",
            "469/469 [==============================] - 2s 5ms/step - loss: 1.1558e-06 - accuracy: 1.0000 - val_loss: 0.0685 - val_accuracy: 0.9914\n",
            "Epoch 71/250\n",
            "469/469 [==============================] - 2s 5ms/step - loss: 9.2973e-07 - accuracy: 1.0000 - val_loss: 0.0695 - val_accuracy: 0.9914\n",
            "Epoch 72/250\n",
            "469/469 [==============================] - 3s 6ms/step - loss: 7.6318e-07 - accuracy: 1.0000 - val_loss: 0.0704 - val_accuracy: 0.9915\n",
            "Epoch 73/250\n",
            "469/469 [==============================] - 2s 4ms/step - loss: 6.1781e-07 - accuracy: 1.0000 - val_loss: 0.0715 - val_accuracy: 0.9915\n",
            "Epoch 74/250\n",
            "469/469 [==============================] - 2s 5ms/step - loss: 4.7654e-07 - accuracy: 1.0000 - val_loss: 0.0729 - val_accuracy: 0.9917\n",
            "Epoch 75/250\n",
            "469/469 [==============================] - 2s 4ms/step - loss: 3.8626e-07 - accuracy: 1.0000 - val_loss: 0.0734 - val_accuracy: 0.9913\n",
            "Epoch 76/250\n",
            "469/469 [==============================] - 2s 4ms/step - loss: 2.9229e-07 - accuracy: 1.0000 - val_loss: 0.0749 - val_accuracy: 0.9913\n",
            "Epoch 77/250\n",
            "469/469 [==============================] - 2s 5ms/step - loss: 2.4193e-07 - accuracy: 1.0000 - val_loss: 0.0759 - val_accuracy: 0.9918\n",
            "Epoch 78/250\n",
            "469/469 [==============================] - 3s 5ms/step - loss: 1.9841e-07 - accuracy: 1.0000 - val_loss: 0.0773 - val_accuracy: 0.9918\n",
            "Epoch 79/250\n",
            "469/469 [==============================] - 2s 4ms/step - loss: 0.0110 - accuracy: 0.9975 - val_loss: 0.0757 - val_accuracy: 0.9870\n",
            "Epoch 80/250\n",
            "469/469 [==============================] - 2s 5ms/step - loss: 0.0085 - accuracy: 0.9975 - val_loss: 0.0640 - val_accuracy: 0.9887\n",
            "Epoch 81/250\n",
            "469/469 [==============================] - 2s 4ms/step - loss: 0.0018 - accuracy: 0.9994 - val_loss: 0.0530 - val_accuracy: 0.9911\n",
            "Epoch 82/250\n",
            "469/469 [==============================] - 2s 4ms/step - loss: 3.5169e-04 - accuracy: 0.9999 - val_loss: 0.0545 - val_accuracy: 0.9913\n",
            "Epoch 83/250\n",
            "469/469 [==============================] - 3s 5ms/step - loss: 0.0044 - accuracy: 0.9984 - val_loss: 0.0598 - val_accuracy: 0.9900\n",
            "Epoch 84/250\n",
            "469/469 [==============================] - 2s 5ms/step - loss: 0.0023 - accuracy: 0.9995 - val_loss: 0.0588 - val_accuracy: 0.9903\n",
            "Epoch 85/250\n",
            "469/469 [==============================] - 2s 5ms/step - loss: 0.0023 - accuracy: 0.9994 - val_loss: 0.0622 - val_accuracy: 0.9900\n",
            "Epoch 86/250\n",
            "469/469 [==============================] - 2s 4ms/step - loss: 0.0030 - accuracy: 0.9990 - val_loss: 0.0661 - val_accuracy: 0.9885\n",
            "Epoch 87/250\n",
            "469/469 [==============================] - 2s 4ms/step - loss: 0.0035 - accuracy: 0.9991 - val_loss: 0.0602 - val_accuracy: 0.9903\n",
            "Epoch 88/250\n",
            "469/469 [==============================] - 2s 4ms/step - loss: 0.0020 - accuracy: 0.9995 - val_loss: 0.0643 - val_accuracy: 0.9906\n",
            "Epoch 89/250\n",
            "469/469 [==============================] - 3s 6ms/step - loss: 0.0011 - accuracy: 0.9996 - val_loss: 0.0866 - val_accuracy: 0.9879\n",
            "Epoch 90/250\n",
            "469/469 [==============================] - 2s 4ms/step - loss: 0.0044 - accuracy: 0.9988 - val_loss: 0.0713 - val_accuracy: 0.9882\n",
            "Epoch 91/250\n",
            "469/469 [==============================] - 2s 5ms/step - loss: 0.0024 - accuracy: 0.9992 - val_loss: 0.0562 - val_accuracy: 0.9916\n",
            "Epoch 92/250\n",
            "469/469 [==============================] - 2s 5ms/step - loss: 0.0049 - accuracy: 0.9986 - val_loss: 0.0676 - val_accuracy: 0.9896\n",
            "Epoch 93/250\n",
            "469/469 [==============================] - 2s 5ms/step - loss: 0.0039 - accuracy: 0.9987 - val_loss: 0.0717 - val_accuracy: 0.9892\n",
            "Epoch 94/250\n",
            "469/469 [==============================] - 2s 5ms/step - loss: 4.8204e-04 - accuracy: 0.9999 - val_loss: 0.0585 - val_accuracy: 0.9915\n",
            "Epoch 95/250\n",
            "469/469 [==============================] - 2s 5ms/step - loss: 2.2554e-04 - accuracy: 1.0000 - val_loss: 0.0585 - val_accuracy: 0.9919\n",
            "Epoch 96/250\n",
            "469/469 [==============================] - 2s 4ms/step - loss: 1.9167e-05 - accuracy: 1.0000 - val_loss: 0.0584 - val_accuracy: 0.9918\n",
            "Epoch 97/250\n",
            "469/469 [==============================] - 2s 5ms/step - loss: 1.0490e-05 - accuracy: 1.0000 - val_loss: 0.0589 - val_accuracy: 0.9921\n",
            "Epoch 98/250\n",
            "469/469 [==============================] - 2s 4ms/step - loss: 7.9074e-06 - accuracy: 1.0000 - val_loss: 0.0596 - val_accuracy: 0.9919\n",
            "Epoch 99/250\n",
            "469/469 [==============================] - 2s 5ms/step - loss: 6.3219e-06 - accuracy: 1.0000 - val_loss: 0.0602 - val_accuracy: 0.9922\n",
            "Epoch 100/250\n",
            "469/469 [==============================] - 3s 6ms/step - loss: 5.0943e-06 - accuracy: 1.0000 - val_loss: 0.0609 - val_accuracy: 0.9921\n",
            "Epoch 101/250\n",
            "469/469 [==============================] - 2s 5ms/step - loss: 4.1211e-06 - accuracy: 1.0000 - val_loss: 0.0617 - val_accuracy: 0.9921\n",
            "Epoch 102/250\n",
            "469/469 [==============================] - 2s 5ms/step - loss: 3.3477e-06 - accuracy: 1.0000 - val_loss: 0.0624 - val_accuracy: 0.9921\n",
            "Epoch 103/250\n",
            "469/469 [==============================] - 2s 4ms/step - loss: 2.7081e-06 - accuracy: 1.0000 - val_loss: 0.0632 - val_accuracy: 0.9921\n",
            "Epoch 104/250\n",
            "469/469 [==============================] - 2s 5ms/step - loss: 2.1843e-06 - accuracy: 1.0000 - val_loss: 0.0639 - val_accuracy: 0.9920\n",
            "Epoch 105/250\n",
            "469/469 [==============================] - 2s 5ms/step - loss: 1.7629e-06 - accuracy: 1.0000 - val_loss: 0.0648 - val_accuracy: 0.9919\n",
            "Epoch 106/250\n",
            "469/469 [==============================] - 2s 5ms/step - loss: 1.4100e-06 - accuracy: 1.0000 - val_loss: 0.0656 - val_accuracy: 0.9920\n",
            "Epoch 107/250\n",
            "469/469 [==============================] - 2s 5ms/step - loss: 1.1263e-06 - accuracy: 1.0000 - val_loss: 0.0665 - val_accuracy: 0.9921\n",
            "Epoch 108/250\n",
            "469/469 [==============================] - 2s 5ms/step - loss: 8.9600e-07 - accuracy: 1.0000 - val_loss: 0.0672 - val_accuracy: 0.9920\n",
            "Epoch 109/250\n",
            "469/469 [==============================] - 2s 5ms/step - loss: 7.1294e-07 - accuracy: 1.0000 - val_loss: 0.0683 - val_accuracy: 0.9919\n",
            "Epoch 110/250\n",
            "469/469 [==============================] - 2s 4ms/step - loss: 5.6578e-07 - accuracy: 1.0000 - val_loss: 0.0689 - val_accuracy: 0.9921\n",
            "Epoch 111/250\n",
            "469/469 [==============================] - 3s 6ms/step - loss: 4.5273e-07 - accuracy: 1.0000 - val_loss: 0.0700 - val_accuracy: 0.9921\n",
            "Epoch 112/250\n",
            "469/469 [==============================] - 2s 4ms/step - loss: 3.5827e-07 - accuracy: 1.0000 - val_loss: 0.0712 - val_accuracy: 0.9921\n",
            "Epoch 113/250\n",
            "469/469 [==============================] - 2s 5ms/step - loss: 2.8602e-07 - accuracy: 1.0000 - val_loss: 0.0720 - val_accuracy: 0.9921\n",
            "Epoch 114/250\n",
            "469/469 [==============================] - 2s 5ms/step - loss: 2.2648e-07 - accuracy: 1.0000 - val_loss: 0.0730 - val_accuracy: 0.9921\n",
            "Epoch 115/250\n",
            "469/469 [==============================] - 2s 4ms/step - loss: 1.7854e-07 - accuracy: 1.0000 - val_loss: 0.0738 - val_accuracy: 0.9921\n",
            "Epoch 116/250\n",
            "469/469 [==============================] - 2s 5ms/step - loss: 1.4024e-07 - accuracy: 1.0000 - val_loss: 0.0753 - val_accuracy: 0.9921\n",
            "Epoch 117/250\n",
            "469/469 [==============================] - 2s 5ms/step - loss: 1.1022e-07 - accuracy: 1.0000 - val_loss: 0.0761 - val_accuracy: 0.9921\n",
            "Epoch 118/250\n",
            "469/469 [==============================] - 2s 5ms/step - loss: 8.6341e-08 - accuracy: 1.0000 - val_loss: 0.0774 - val_accuracy: 0.9921\n",
            "Epoch 119/250\n",
            "469/469 [==============================] - 2s 4ms/step - loss: 6.8118e-08 - accuracy: 1.0000 - val_loss: 0.0784 - val_accuracy: 0.9921\n",
            "Epoch 120/250\n",
            "469/469 [==============================] - 2s 5ms/step - loss: 5.3477e-08 - accuracy: 1.0000 - val_loss: 0.0795 - val_accuracy: 0.9921\n",
            "Epoch 121/250\n",
            "469/469 [==============================] - 2s 4ms/step - loss: 4.1489e-08 - accuracy: 1.0000 - val_loss: 0.0804 - val_accuracy: 0.9922\n",
            "Epoch 122/250\n",
            "469/469 [==============================] - 3s 6ms/step - loss: 3.3029e-08 - accuracy: 1.0000 - val_loss: 0.0815 - val_accuracy: 0.9920\n",
            "Epoch 123/250\n",
            "469/469 [==============================] - 2s 4ms/step - loss: 2.6250e-08 - accuracy: 1.0000 - val_loss: 0.0828 - val_accuracy: 0.9921\n",
            "Epoch 124/250\n",
            "469/469 [==============================] - 2s 4ms/step - loss: 2.0603e-08 - accuracy: 1.0000 - val_loss: 0.0837 - val_accuracy: 0.9921\n",
            "Epoch 125/250\n",
            "469/469 [==============================] - 2s 4ms/step - loss: 1.6425e-08 - accuracy: 1.0000 - val_loss: 0.0845 - val_accuracy: 0.9922\n",
            "Epoch 126/250\n",
            "469/469 [==============================] - 2s 4ms/step - loss: 1.2952e-08 - accuracy: 1.0000 - val_loss: 0.0859 - val_accuracy: 0.9922\n",
            "Epoch 127/250\n",
            "469/469 [==============================] - 2s 5ms/step - loss: 1.0465e-08 - accuracy: 1.0000 - val_loss: 0.0869 - val_accuracy: 0.9922\n",
            "Epoch 128/250\n",
            "469/469 [==============================] - 3s 6ms/step - loss: 8.2831e-09 - accuracy: 1.0000 - val_loss: 0.0878 - val_accuracy: 0.9922\n",
            "Epoch 129/250\n",
            "469/469 [==============================] - 2s 4ms/step - loss: 6.5943e-09 - accuracy: 1.0000 - val_loss: 0.0889 - val_accuracy: 0.9921\n",
            "Epoch 130/250\n",
            "469/469 [==============================] - 2s 5ms/step - loss: 5.2373e-09 - accuracy: 1.0000 - val_loss: 0.0899 - val_accuracy: 0.9921\n",
            "Epoch 131/250\n",
            "469/469 [==============================] - 2s 4ms/step - loss: 4.2895e-09 - accuracy: 1.0000 - val_loss: 0.0907 - val_accuracy: 0.9922\n",
            "Epoch 132/250\n",
            "469/469 [==============================] - 2s 4ms/step - loss: 3.4352e-09 - accuracy: 1.0000 - val_loss: 0.0914 - val_accuracy: 0.9923\n",
            "Epoch 133/250\n",
            "469/469 [==============================] - 3s 5ms/step - loss: 2.8551e-09 - accuracy: 1.0000 - val_loss: 0.0923 - val_accuracy: 0.9923\n",
            "Epoch 134/250\n",
            "469/469 [==============================] - 2s 5ms/step - loss: 2.3027e-09 - accuracy: 1.0000 - val_loss: 0.0931 - val_accuracy: 0.9923\n",
            "Epoch 135/250\n",
            "469/469 [==============================] - 2s 4ms/step - loss: 1.9133e-09 - accuracy: 1.0000 - val_loss: 0.0943 - val_accuracy: 0.9922\n",
            "Epoch 136/250\n",
            "469/469 [==============================] - 2s 4ms/step - loss: 1.5835e-09 - accuracy: 1.0000 - val_loss: 0.0950 - val_accuracy: 0.9922\n",
            "Epoch 137/250\n",
            "469/469 [==============================] - 2s 5ms/step - loss: 1.3351e-09 - accuracy: 1.0000 - val_loss: 0.0956 - val_accuracy: 0.9922\n",
            "Epoch 138/250\n",
            "469/469 [==============================] - 2s 5ms/step - loss: 1.1126e-09 - accuracy: 1.0000 - val_loss: 0.0963 - val_accuracy: 0.9922\n",
            "Epoch 139/250\n",
            "469/469 [==============================] - 3s 6ms/step - loss: 9.3778e-10 - accuracy: 1.0000 - val_loss: 0.0969 - val_accuracy: 0.9923\n",
            "Epoch 140/250\n",
            "469/469 [==============================] - 2s 4ms/step - loss: 8.1857e-10 - accuracy: 1.0000 - val_loss: 0.0973 - val_accuracy: 0.9924\n",
            "Epoch 141/250\n",
            "469/469 [==============================] - 2s 4ms/step - loss: 6.7949e-10 - accuracy: 1.0000 - val_loss: 0.0981 - val_accuracy: 0.9922\n",
            "Epoch 142/250\n",
            "469/469 [==============================] - 2s 4ms/step - loss: 5.7817e-10 - accuracy: 1.0000 - val_loss: 0.0983 - val_accuracy: 0.9922\n",
            "Epoch 143/250\n",
            "469/469 [==============================] - 2s 4ms/step - loss: 5.2253e-10 - accuracy: 1.0000 - val_loss: 0.0990 - val_accuracy: 0.9922\n",
            "Epoch 144/250\n",
            "469/469 [==============================] - 2s 5ms/step - loss: 4.1922e-10 - accuracy: 1.0000 - val_loss: 0.0989 - val_accuracy: 0.9924\n",
            "Epoch 145/250\n",
            "469/469 [==============================] - 2s 5ms/step - loss: 3.8942e-10 - accuracy: 1.0000 - val_loss: 0.0995 - val_accuracy: 0.9923\n",
            "Epoch 146/250\n",
            "469/469 [==============================] - 2s 4ms/step - loss: 3.3776e-10 - accuracy: 1.0000 - val_loss: 0.0996 - val_accuracy: 0.9924\n",
            "Epoch 147/250\n",
            "469/469 [==============================] - 2s 4ms/step - loss: 3.0796e-10 - accuracy: 1.0000 - val_loss: 0.0998 - val_accuracy: 0.9923\n",
            "Epoch 148/250\n",
            "469/469 [==============================] - 2s 5ms/step - loss: 2.5829e-10 - accuracy: 1.0000 - val_loss: 0.0998 - val_accuracy: 0.9924\n",
            "Epoch 149/250\n",
            "469/469 [==============================] - 2s 4ms/step - loss: 2.6425e-10 - accuracy: 1.0000 - val_loss: 0.1000 - val_accuracy: 0.9924\n",
            "Epoch 150/250\n",
            "469/469 [==============================] - 3s 6ms/step - loss: 2.4041e-10 - accuracy: 1.0000 - val_loss: 0.0998 - val_accuracy: 0.9923\n",
            "Epoch 151/250\n",
            "469/469 [==============================] - 2s 5ms/step - loss: 2.2650e-10 - accuracy: 1.0000 - val_loss: 0.0996 - val_accuracy: 0.9924\n",
            "Epoch 152/250\n",
            "469/469 [==============================] - 2s 4ms/step - loss: 2.0663e-10 - accuracy: 1.0000 - val_loss: 0.0994 - val_accuracy: 0.9924\n",
            "Epoch 153/250\n",
            "469/469 [==============================] - 2s 5ms/step - loss: 2.1855e-10 - accuracy: 1.0000 - val_loss: 0.0997 - val_accuracy: 0.9923\n",
            "Epoch 154/250\n",
            "469/469 [==============================] - 2s 4ms/step - loss: 1.8875e-10 - accuracy: 1.0000 - val_loss: 0.1000 - val_accuracy: 0.9924\n",
            "Epoch 155/250\n",
            "469/469 [==============================] - 2s 5ms/step - loss: 1.8676e-10 - accuracy: 1.0000 - val_loss: 0.0993 - val_accuracy: 0.9923\n",
            "Epoch 156/250\n",
            "469/469 [==============================] - 2s 5ms/step - loss: 1.8875e-10 - accuracy: 1.0000 - val_loss: 0.0993 - val_accuracy: 0.9923\n",
            "Epoch 157/250\n",
            "469/469 [==============================] - 2s 4ms/step - loss: 1.8279e-10 - accuracy: 1.0000 - val_loss: 0.0995 - val_accuracy: 0.9924\n",
            "Epoch 158/250\n",
            "469/469 [==============================] - 2s 4ms/step - loss: 1.7087e-10 - accuracy: 1.0000 - val_loss: 0.0991 - val_accuracy: 0.9925\n",
            "Epoch 159/250\n",
            "469/469 [==============================] - 2s 5ms/step - loss: 1.7683e-10 - accuracy: 1.0000 - val_loss: 0.0990 - val_accuracy: 0.9925\n",
            "Epoch 160/250\n",
            "469/469 [==============================] - 2s 4ms/step - loss: 1.6491e-10 - accuracy: 1.0000 - val_loss: 0.0989 - val_accuracy: 0.9924\n",
            "Epoch 161/250\n",
            "469/469 [==============================] - 3s 6ms/step - loss: 1.6888e-10 - accuracy: 1.0000 - val_loss: 0.0991 - val_accuracy: 0.9923\n",
            "Epoch 162/250\n",
            "469/469 [==============================] - 2s 5ms/step - loss: 1.4901e-10 - accuracy: 1.0000 - val_loss: 0.0987 - val_accuracy: 0.9924\n",
            "Epoch 163/250\n",
            "469/469 [==============================] - 2s 4ms/step - loss: 1.6888e-10 - accuracy: 1.0000 - val_loss: 0.0986 - val_accuracy: 0.9923\n",
            "Epoch 164/250\n",
            "469/469 [==============================] - 2s 4ms/step - loss: 1.4504e-10 - accuracy: 1.0000 - val_loss: 0.0990 - val_accuracy: 0.9924\n",
            "Epoch 165/250\n",
            "469/469 [==============================] - 2s 5ms/step - loss: 1.5895e-10 - accuracy: 1.0000 - val_loss: 0.0985 - val_accuracy: 0.9923\n",
            "Epoch 166/250\n",
            "469/469 [==============================] - 2s 5ms/step - loss: 1.4305e-10 - accuracy: 1.0000 - val_loss: 0.0987 - val_accuracy: 0.9923\n",
            "Epoch 167/250\n",
            "469/469 [==============================] - 2s 5ms/step - loss: 1.5497e-10 - accuracy: 1.0000 - val_loss: 0.0983 - val_accuracy: 0.9924\n",
            "Epoch 168/250\n",
            "469/469 [==============================] - 2s 4ms/step - loss: 1.4702e-10 - accuracy: 1.0000 - val_loss: 0.0986 - val_accuracy: 0.9923\n",
            "Epoch 169/250\n",
            "469/469 [==============================] - 2s 5ms/step - loss: 1.3510e-10 - accuracy: 1.0000 - val_loss: 0.0984 - val_accuracy: 0.9923\n",
            "Epoch 170/250\n",
            "469/469 [==============================] - 2s 5ms/step - loss: 1.4504e-10 - accuracy: 1.0000 - val_loss: 0.0981 - val_accuracy: 0.9922\n",
            "Epoch 171/250\n",
            "469/469 [==============================] - 2s 5ms/step - loss: 1.4901e-10 - accuracy: 1.0000 - val_loss: 0.0983 - val_accuracy: 0.9923\n",
            "Epoch 172/250\n",
            "469/469 [==============================] - 3s 6ms/step - loss: 1.3510e-10 - accuracy: 1.0000 - val_loss: 0.0980 - val_accuracy: 0.9922\n",
            "Epoch 173/250\n",
            "469/469 [==============================] - 2s 4ms/step - loss: 1.4305e-10 - accuracy: 1.0000 - val_loss: 0.0979 - val_accuracy: 0.9923\n",
            "Epoch 174/250\n",
            "469/469 [==============================] - 2s 4ms/step - loss: 1.2716e-10 - accuracy: 1.0000 - val_loss: 0.0979 - val_accuracy: 0.9922\n",
            "Epoch 175/250\n",
            "469/469 [==============================] - 2s 4ms/step - loss: 1.4702e-10 - accuracy: 1.0000 - val_loss: 0.0983 - val_accuracy: 0.9921\n",
            "Epoch 176/250\n",
            "469/469 [==============================] - 2s 5ms/step - loss: 1.2120e-10 - accuracy: 1.0000 - val_loss: 0.0983 - val_accuracy: 0.9922\n",
            "Epoch 177/250\n",
            "469/469 [==============================] - 2s 5ms/step - loss: 1.1921e-10 - accuracy: 1.0000 - val_loss: 0.0978 - val_accuracy: 0.9922\n",
            "Epoch 178/250\n",
            "469/469 [==============================] - 3s 6ms/step - loss: 1.3312e-10 - accuracy: 1.0000 - val_loss: 0.0980 - val_accuracy: 0.9920\n",
            "Epoch 179/250\n",
            "469/469 [==============================] - 2s 5ms/step - loss: 1.2914e-10 - accuracy: 1.0000 - val_loss: 0.0977 - val_accuracy: 0.9921\n",
            "Epoch 180/250\n",
            "469/469 [==============================] - 2s 4ms/step - loss: 1.2318e-10 - accuracy: 1.0000 - val_loss: 0.0978 - val_accuracy: 0.9920\n",
            "Epoch 181/250\n",
            "469/469 [==============================] - 2s 4ms/step - loss: 1.1126e-10 - accuracy: 1.0000 - val_loss: 0.0975 - val_accuracy: 0.9921\n",
            "Epoch 182/250\n",
            "469/469 [==============================] - 2s 4ms/step - loss: 1.1524e-10 - accuracy: 1.0000 - val_loss: 0.0975 - val_accuracy: 0.9920\n",
            "Epoch 183/250\n",
            "469/469 [==============================] - 3s 6ms/step - loss: 1.3312e-10 - accuracy: 1.0000 - val_loss: 0.0975 - val_accuracy: 0.9920\n",
            "Epoch 184/250\n",
            "469/469 [==============================] - 2s 4ms/step - loss: 1.1524e-10 - accuracy: 1.0000 - val_loss: 0.0973 - val_accuracy: 0.9921\n",
            "Epoch 185/250\n",
            "469/469 [==============================] - 2s 4ms/step - loss: 1.2716e-10 - accuracy: 1.0000 - val_loss: 0.0977 - val_accuracy: 0.9920\n",
            "Epoch 186/250\n",
            "469/469 [==============================] - 2s 4ms/step - loss: 1.1524e-10 - accuracy: 1.0000 - val_loss: 0.0975 - val_accuracy: 0.9920\n",
            "Epoch 187/250\n",
            "469/469 [==============================] - 2s 4ms/step - loss: 1.1524e-10 - accuracy: 1.0000 - val_loss: 0.0975 - val_accuracy: 0.9920\n",
            "Epoch 188/250\n",
            "469/469 [==============================] - 2s 5ms/step - loss: 1.1524e-10 - accuracy: 1.0000 - val_loss: 0.0976 - val_accuracy: 0.9920\n",
            "Epoch 189/250\n",
            "469/469 [==============================] - 3s 6ms/step - loss: 1.0133e-10 - accuracy: 1.0000 - val_loss: 0.0973 - val_accuracy: 0.9920\n",
            "Epoch 190/250\n",
            "469/469 [==============================] - 2s 4ms/step - loss: 1.1921e-10 - accuracy: 1.0000 - val_loss: 0.0974 - val_accuracy: 0.9921\n",
            "Epoch 191/250\n",
            "469/469 [==============================] - 2s 5ms/step - loss: 1.0331e-10 - accuracy: 1.0000 - val_loss: 0.0976 - val_accuracy: 0.9920\n",
            "Epoch 192/250\n",
            "469/469 [==============================] - 2s 5ms/step - loss: 1.0530e-10 - accuracy: 1.0000 - val_loss: 0.0973 - val_accuracy: 0.9921\n",
            "Epoch 193/250\n",
            "469/469 [==============================] - 2s 4ms/step - loss: 1.0530e-10 - accuracy: 1.0000 - val_loss: 0.0974 - val_accuracy: 0.9920\n",
            "Epoch 194/250\n",
            "469/469 [==============================] - 3s 6ms/step - loss: 9.5367e-11 - accuracy: 1.0000 - val_loss: 0.0970 - val_accuracy: 0.9920\n",
            "Epoch 195/250\n",
            "469/469 [==============================] - 2s 4ms/step - loss: 9.9341e-11 - accuracy: 1.0000 - val_loss: 0.0973 - val_accuracy: 0.9919\n",
            "Epoch 196/250\n",
            "469/469 [==============================] - 2s 5ms/step - loss: 8.9407e-11 - accuracy: 1.0000 - val_loss: 0.0971 - val_accuracy: 0.9921\n",
            "Epoch 197/250\n",
            "469/469 [==============================] - 2s 5ms/step - loss: 1.0133e-10 - accuracy: 1.0000 - val_loss: 0.0976 - val_accuracy: 0.9920\n",
            "Epoch 198/250\n",
            "469/469 [==============================] - 2s 5ms/step - loss: 9.3381e-11 - accuracy: 1.0000 - val_loss: 0.0974 - val_accuracy: 0.9919\n",
            "Epoch 199/250\n",
            "469/469 [==============================] - 2s 5ms/step - loss: 8.5433e-11 - accuracy: 1.0000 - val_loss: 0.0976 - val_accuracy: 0.9919\n",
            "Epoch 200/250\n",
            "469/469 [==============================] - 3s 5ms/step - loss: 8.7420e-11 - accuracy: 1.0000 - val_loss: 0.0972 - val_accuracy: 0.9921\n",
            "Epoch 201/250\n",
            "469/469 [==============================] - 2s 4ms/step - loss: 8.3446e-11 - accuracy: 1.0000 - val_loss: 0.0973 - val_accuracy: 0.9919\n",
            "Epoch 202/250\n",
            "469/469 [==============================] - 2s 5ms/step - loss: 9.3381e-11 - accuracy: 1.0000 - val_loss: 0.0973 - val_accuracy: 0.9920\n",
            "Epoch 203/250\n",
            "469/469 [==============================] - 2s 5ms/step - loss: 8.3446e-11 - accuracy: 1.0000 - val_loss: 0.0975 - val_accuracy: 0.9919\n",
            "Epoch 204/250\n",
            "469/469 [==============================] - 2s 4ms/step - loss: 7.5499e-11 - accuracy: 1.0000 - val_loss: 0.0974 - val_accuracy: 0.9919\n",
            "Epoch 205/250\n",
            "469/469 [==============================] - 3s 6ms/step - loss: 8.1460e-11 - accuracy: 1.0000 - val_loss: 0.0974 - val_accuracy: 0.9921\n",
            "Epoch 206/250\n",
            "469/469 [==============================] - 2s 5ms/step - loss: 8.1460e-11 - accuracy: 1.0000 - val_loss: 0.0975 - val_accuracy: 0.9919\n",
            "Epoch 207/250\n",
            "469/469 [==============================] - 2s 4ms/step - loss: 7.3512e-11 - accuracy: 1.0000 - val_loss: 0.0974 - val_accuracy: 0.9920\n",
            "Epoch 208/250\n",
            "469/469 [==============================] - 2s 5ms/step - loss: 7.5499e-11 - accuracy: 1.0000 - val_loss: 0.0972 - val_accuracy: 0.9921\n",
            "Epoch 209/250\n",
            "469/469 [==============================] - 2s 4ms/step - loss: 9.3381e-11 - accuracy: 1.0000 - val_loss: 0.0978 - val_accuracy: 0.9919\n",
            "Epoch 210/250\n",
            "469/469 [==============================] - 2s 5ms/step - loss: 6.7552e-11 - accuracy: 1.0000 - val_loss: 0.0976 - val_accuracy: 0.9920\n",
            "Epoch 211/250\n",
            "469/469 [==============================] - 2s 5ms/step - loss: 5.9605e-11 - accuracy: 1.0000 - val_loss: 0.0975 - val_accuracy: 0.9921\n",
            "Epoch 212/250\n",
            "469/469 [==============================] - 2s 5ms/step - loss: 6.7552e-11 - accuracy: 1.0000 - val_loss: 0.0978 - val_accuracy: 0.9919\n",
            "Epoch 213/250\n",
            "469/469 [==============================] - 2s 5ms/step - loss: 7.1526e-11 - accuracy: 1.0000 - val_loss: 0.0979 - val_accuracy: 0.9920\n",
            "Epoch 214/250\n",
            "469/469 [==============================] - 2s 5ms/step - loss: 6.5565e-11 - accuracy: 1.0000 - val_loss: 0.0978 - val_accuracy: 0.9920\n",
            "Epoch 215/250\n",
            "469/469 [==============================] - 2s 5ms/step - loss: 5.9605e-11 - accuracy: 1.0000 - val_loss: 0.0979 - val_accuracy: 0.9920\n",
            "Epoch 216/250\n",
            "469/469 [==============================] - 3s 6ms/step - loss: 5.5631e-11 - accuracy: 1.0000 - val_loss: 0.0978 - val_accuracy: 0.9921\n",
            "Epoch 217/250\n",
            "469/469 [==============================] - 2s 5ms/step - loss: 4.9671e-11 - accuracy: 1.0000 - val_loss: 0.0978 - val_accuracy: 0.9919\n",
            "Epoch 218/250\n",
            "469/469 [==============================] - 2s 4ms/step - loss: 5.5631e-11 - accuracy: 1.0000 - val_loss: 0.0979 - val_accuracy: 0.9920\n",
            "Epoch 219/250\n",
            "469/469 [==============================] - 2s 5ms/step - loss: 4.7684e-11 - accuracy: 1.0000 - val_loss: 0.0979 - val_accuracy: 0.9921\n",
            "Epoch 220/250\n",
            "469/469 [==============================] - 2s 5ms/step - loss: 4.5697e-11 - accuracy: 1.0000 - val_loss: 0.0982 - val_accuracy: 0.9919\n",
            "Epoch 221/250\n",
            "469/469 [==============================] - 3s 6ms/step - loss: 5.3644e-11 - accuracy: 1.0000 - val_loss: 0.0982 - val_accuracy: 0.9920\n",
            "Epoch 222/250\n",
            "469/469 [==============================] - 2s 5ms/step - loss: 5.7618e-11 - accuracy: 1.0000 - val_loss: 0.0982 - val_accuracy: 0.9919\n",
            "Epoch 223/250\n",
            "469/469 [==============================] - 2s 4ms/step - loss: 4.3710e-11 - accuracy: 1.0000 - val_loss: 0.0982 - val_accuracy: 0.9919\n",
            "Epoch 224/250\n",
            "469/469 [==============================] - 2s 5ms/step - loss: 3.5763e-11 - accuracy: 1.0000 - val_loss: 0.0984 - val_accuracy: 0.9919\n",
            "Epoch 225/250\n",
            "469/469 [==============================] - 2s 5ms/step - loss: 3.9736e-11 - accuracy: 1.0000 - val_loss: 0.0985 - val_accuracy: 0.9919\n",
            "Epoch 226/250\n",
            "469/469 [==============================] - 2s 5ms/step - loss: 3.9736e-11 - accuracy: 1.0000 - val_loss: 0.0984 - val_accuracy: 0.9919\n",
            "Epoch 227/250\n",
            "469/469 [==============================] - 2s 5ms/step - loss: 4.1723e-11 - accuracy: 1.0000 - val_loss: 0.0985 - val_accuracy: 0.9919\n",
            "Epoch 228/250\n",
            "469/469 [==============================] - 2s 4ms/step - loss: 3.3776e-11 - accuracy: 1.0000 - val_loss: 0.0986 - val_accuracy: 0.9919\n",
            "Epoch 229/250\n",
            "469/469 [==============================] - 2s 4ms/step - loss: 2.7815e-11 - accuracy: 1.0000 - val_loss: 0.0988 - val_accuracy: 0.9919\n",
            "Epoch 230/250\n",
            "469/469 [==============================] - 2s 5ms/step - loss: 3.1789e-11 - accuracy: 1.0000 - val_loss: 0.0989 - val_accuracy: 0.9918\n",
            "Epoch 231/250\n",
            "469/469 [==============================] - 2s 5ms/step - loss: 2.7815e-11 - accuracy: 1.0000 - val_loss: 0.0989 - val_accuracy: 0.9919\n",
            "Epoch 232/250\n",
            "469/469 [==============================] - 3s 6ms/step - loss: 3.1789e-11 - accuracy: 1.0000 - val_loss: 0.0990 - val_accuracy: 0.9919\n",
            "Epoch 233/250\n",
            "469/469 [==============================] - 2s 5ms/step - loss: 3.5763e-11 - accuracy: 1.0000 - val_loss: 0.0993 - val_accuracy: 0.9919\n",
            "Epoch 234/250\n",
            "469/469 [==============================] - 2s 4ms/step - loss: 2.9802e-11 - accuracy: 1.0000 - val_loss: 0.0995 - val_accuracy: 0.9919\n",
            "Epoch 235/250\n",
            "469/469 [==============================] - 2s 5ms/step - loss: 2.3842e-11 - accuracy: 1.0000 - val_loss: 0.0995 - val_accuracy: 0.9919\n",
            "Epoch 236/250\n",
            "469/469 [==============================] - 2s 5ms/step - loss: 2.5829e-11 - accuracy: 1.0000 - val_loss: 0.0996 - val_accuracy: 0.9918\n",
            "Epoch 237/250\n",
            "469/469 [==============================] - 2s 5ms/step - loss: 1.3908e-11 - accuracy: 1.0000 - val_loss: 0.0997 - val_accuracy: 0.9918\n",
            "Epoch 238/250\n",
            "469/469 [==============================] - 2s 5ms/step - loss: 2.7815e-11 - accuracy: 1.0000 - val_loss: 0.1000 - val_accuracy: 0.9917\n",
            "Epoch 239/250\n",
            "469/469 [==============================] - 2s 5ms/step - loss: 2.1855e-11 - accuracy: 1.0000 - val_loss: 0.1001 - val_accuracy: 0.9917\n",
            "Epoch 240/250\n",
            "469/469 [==============================] - 2s 4ms/step - loss: 1.5895e-11 - accuracy: 1.0000 - val_loss: 0.1001 - val_accuracy: 0.9917\n",
            "Epoch 241/250\n",
            "469/469 [==============================] - 2s 5ms/step - loss: 1.5895e-11 - accuracy: 1.0000 - val_loss: 0.1004 - val_accuracy: 0.9917\n",
            "Epoch 242/250\n",
            "469/469 [==============================] - 2s 5ms/step - loss: 1.3908e-11 - accuracy: 1.0000 - val_loss: 0.1003 - val_accuracy: 0.9919\n",
            "Epoch 243/250\n",
            "469/469 [==============================] - 3s 6ms/step - loss: 2.5829e-11 - accuracy: 1.0000 - val_loss: 0.1006 - val_accuracy: 0.9916\n",
            "Epoch 244/250\n",
            "469/469 [==============================] - 2s 5ms/step - loss: 5.9605e-12 - accuracy: 1.0000 - val_loss: 0.1006 - val_accuracy: 0.9917\n",
            "Epoch 245/250\n",
            "469/469 [==============================] - 2s 5ms/step - loss: 1.3908e-11 - accuracy: 1.0000 - val_loss: 0.1010 - val_accuracy: 0.9918\n",
            "Epoch 246/250\n",
            "469/469 [==============================] - 2s 4ms/step - loss: 1.5895e-11 - accuracy: 1.0000 - val_loss: 0.1011 - val_accuracy: 0.9918\n",
            "Epoch 247/250\n",
            "469/469 [==============================] - 2s 5ms/step - loss: 1.7881e-11 - accuracy: 1.0000 - val_loss: 0.1010 - val_accuracy: 0.9917\n",
            "Epoch 248/250\n",
            "469/469 [==============================] - 3s 5ms/step - loss: 1.3908e-11 - accuracy: 1.0000 - val_loss: 0.1014 - val_accuracy: 0.9918\n",
            "Epoch 249/250\n",
            "469/469 [==============================] - 2s 5ms/step - loss: 7.9473e-12 - accuracy: 1.0000 - val_loss: 0.1013 - val_accuracy: 0.9918\n",
            "Epoch 250/250\n",
            "469/469 [==============================] - 2s 4ms/step - loss: 1.1921e-11 - accuracy: 1.0000 - val_loss: 0.1018 - val_accuracy: 0.9917\n"
          ]
        }
      ]
    },
    {
      "cell_type": "markdown",
      "source": [
        "Plotting the model's training accuracy and val accuracy per epoch as well as loss"
      ],
      "metadata": {
        "id": "4hzg4eyrtx9_"
      }
    },
    {
      "cell_type": "code",
      "source": [
        "# Plot the training and validation accuracy\n",
        "plt.figure(figsize=(12, 4))\n",
        "plt.subplot(1, 2, 1)\n",
        "plt.plot(history.history['accuracy'], label='Training Accuracy')\n",
        "plt.plot(history.history['val_accuracy'], label='Validation Accuracy')\n",
        "plt.xlabel('Epoch')\n",
        "plt.ylabel('Accuracy')\n",
        "plt.title('Training and Validation Accuracy')\n",
        "plt.legend()\n",
        "\n",
        "# Plot the training and validation loss\n",
        "plt.subplot(1, 2, 2)\n",
        "plt.plot(history.history['loss'], label='Training Loss')\n",
        "plt.plot(history.history['val_loss'], label='Validation Loss')\n",
        "plt.xlabel('Epoch')\n",
        "plt.ylabel('Loss')\n",
        "plt.title('Training and Validation Loss')\n",
        "plt.legend()\n",
        "\n",
        "# Show the plot\n",
        "plt.tight_layout()\n",
        "plt.show()"
      ],
      "metadata": {
        "colab": {
          "base_uri": "https://localhost:8080/",
          "height": 407
        },
        "id": "M5KnLa9SkmuP",
        "outputId": "c2769da2-8351-402c-b971-28bb3a060505"
      },
      "execution_count": 10,
      "outputs": [
        {
          "output_type": "display_data",
          "data": {
            "text/plain": [
              "<Figure size 1200x400 with 2 Axes>"
            ],
            "image/png": "[encoded data removed]"
          },
          "metadata": {}
        }
      ]
    },
    {
      "cell_type": "markdown",
      "source": [
        "##### **saving the model and performing test accuracy**"
      ],
      "metadata": {
        "id": "DyV7Gwtat8iP"
      }
    },
    {
      "cell_type": "code",
      "source": [
        "model.save(\"mist.h5\")"
      ],
      "metadata": {
        "id": "ws_mUX0_nbZl"
      },
      "execution_count": 11,
      "outputs": []
    },
    {
      "cell_type": "code",
      "source": [
        "(_, _), (x_test, y_test) = mnist.load_data()"
      ],
      "metadata": {
        "id": "HRsnJfiAo4YD"
      },
      "execution_count": 19,
      "outputs": []
    },
    {
      "cell_type": "code",
      "source": [
        "x_test = x_test.astype('float32') / 255.0\n",
        "x_test = x_test.reshape((-1, 28, 28, 1))"
      ],
      "metadata": {
        "id": "nQmrMvlno7Bf"
      },
      "execution_count": 21,
      "outputs": []
    },
    {
      "cell_type": "code",
      "source": [
        "model = tf.keras.models.load_model('mist.h5')"
      ],
      "metadata": {
        "id": "eWwex3Dbo9sz"
      },
      "execution_count": 22,
      "outputs": []
    },
    {
      "cell_type": "code",
      "source": [
        "loss, accuracy = model.evaluate(x_test, y_test, verbose=0)"
      ],
      "metadata": {
        "id": "FhXYJg8FpACq"
      },
      "execution_count": 23,
      "outputs": []
    },
    {
      "cell_type": "code",
      "source": [
        "print(f'Test Accuracy: {accuracy:.4f}')"
      ],
      "metadata": {
        "colab": {
          "base_uri": "https://localhost:8080/"
        },
        "id": "rTKORPi0pEE_",
        "outputId": "e7b6255d-1e7e-4b33-e8cd-7966f9ed5fb0"
      },
      "execution_count": 24,
      "outputs": [
        {
          "output_type": "stream",
          "name": "stdout",
          "text": [
            "Test Accuracy: 0.0974\n"
          ]
        }
      ]
    },
    {
      "cell_type": "markdown",
      "source": [
        "###### **Calculating and printing the confusion matrix to better understand the model's prediction**"
      ],
      "metadata": {
        "id": "dF6IlyE8uMbc"
      }
    },
    {
      "cell_type": "code",
      "source": [
        "import numpy as np\n",
        "from sklearn.metrics import confusion_matrix\n",
        "import pandas as pd\n",
        "from IPython.display import display, HTML"
      ],
      "metadata": {
        "id": "4Xxmavoqp1gZ"
      },
      "execution_count": 37,
      "outputs": []
    },
    {
      "cell_type": "code",
      "source": [
        "y_pred_probs = model.predict(x_test)\n",
        "y_pred = np.argmax(y_pred_probs, axis=1)"
      ],
      "metadata": {
        "colab": {
          "base_uri": "https://localhost:8080/"
        },
        "id": "o3VTvkh1pos3",
        "outputId": "03138e5e-9872-43eb-f5ac-d63999567ea0"
      },
      "execution_count": 31,
      "outputs": [
        {
          "output_type": "stream",
          "name": "stdout",
          "text": [
            "313/313 [==============================] - 1s 2ms/step\n"
          ]
        }
      ]
    },
    {
      "cell_type": "code",
      "source": [
        "cm = confusion_matrix(y_test, y_pred)"
      ],
      "metadata": {
        "id": "OwipjQ9Epxy1"
      },
      "execution_count": 32,
      "outputs": []
    },
    {
      "cell_type": "code",
      "source": [
        "num_classes = 10\n",
        "metric_names = [f'Class {i}' for i in range(num_classes)]"
      ],
      "metadata": {
        "id": "e7p1Hu98rI5u"
      },
      "execution_count": 42,
      "outputs": []
    },
    {
      "cell_type": "code",
      "source": [
        "df_cm = pd.DataFrame(cm, index=metric_names, columns=metric_names)"
      ],
      "metadata": {
        "id": "Rwo3SLi3qC5n"
      },
      "execution_count": 43,
      "outputs": []
    },
    {
      "cell_type": "code",
      "source": [
        "html_table = df_cm.style.set_table_styles([\n",
        "    {'selector': 'table', 'props': [('border', '1px solid black'), ('border-collapse', 'collapse')]},\n",
        "    {'selector': 'th, td', 'props': [('border', '1px solid black'), ('padding', '8px')]}\n",
        "]).render()"
      ],
      "metadata": {
        "colab": {
          "base_uri": "https://localhost:8080/"
        },
        "id": "9WkG_gB5qSZ9",
        "outputId": "eba109d3-9fc5-4879-828b-edffbb87f381"
      },
      "execution_count": 44,
      "outputs": [
        {
          "output_type": "stream",
          "name": "stderr",
          "text": [
            "<ipython-input-44-5bb3ea023407>:4: FutureWarning: this method is deprecated in favour of `Styler.to_html()`\n",
            "  ]).render()\n"
          ]
        }
      ]
    },
    {
      "cell_type": "code",
      "source": [
        "display(HTML(html_table))"
      ],
      "metadata": {
        "colab": {
          "base_uri": "https://localhost:8080/",
          "height": 421
        },
        "id": "A_iIc_YpqVxS",
        "outputId": "00feddc8-fad9-49fe-f136-bb08f523a113"
      },
      "execution_count": 45,
      "outputs": [
        {
          "output_type": "display_data",
          "data": {
            "text/plain": [
              "<IPython.core.display.HTML object>"
            ],
            "text/html": [
              "<style type=\"text/css\">\n",
              "#T_96821 table {\n",
              "  border: 1px solid black;\n",
              "  border-collapse: collapse;\n",
              "}\n",
              "#T_96821 th {\n",
              "  border: 1px solid black;\n",
              "  padding: 8px;\n",
              "}\n",
              "#T_96821  td {\n",
              "  border: 1px solid black;\n",
              "  padding: 8px;\n",
              "}\n",
              "</style>\n",
              "<table id=\"T_96821\">\n",
              "  <thead>\n",
              "    <tr>\n",
              "      <th class=\"blank level0\" >&nbsp;</th>\n",
              "      <th id=\"T_96821_level0_col0\" class=\"col_heading level0 col0\" >Class 0</th>\n",
              "      <th id=\"T_96821_level0_col1\" class=\"col_heading level0 col1\" >Class 1</th>\n",
              "      <th id=\"T_96821_level0_col2\" class=\"col_heading level0 col2\" >Class 2</th>\n",
              "      <th id=\"T_96821_level0_col3\" class=\"col_heading level0 col3\" >Class 3</th>\n",
              "      <th id=\"T_96821_level0_col4\" class=\"col_heading level0 col4\" >Class 4</th>\n",
              "      <th id=\"T_96821_level0_col5\" class=\"col_heading level0 col5\" >Class 5</th>\n",
              "      <th id=\"T_96821_level0_col6\" class=\"col_heading level0 col6\" >Class 6</th>\n",
              "      <th id=\"T_96821_level0_col7\" class=\"col_heading level0 col7\" >Class 7</th>\n",
              "      <th id=\"T_96821_level0_col8\" class=\"col_heading level0 col8\" >Class 8</th>\n",
              "      <th id=\"T_96821_level0_col9\" class=\"col_heading level0 col9\" >Class 9</th>\n",
              "    </tr>\n",
              "  </thead>\n",
              "  <tbody>\n",
              "    <tr>\n",
              "      <th id=\"T_96821_level0_row0\" class=\"row_heading level0 row0\" >Class 0</th>\n",
              "      <td id=\"T_96821_row0_col0\" class=\"data row0 col0\" >0</td>\n",
              "      <td id=\"T_96821_row0_col1\" class=\"data row0 col1\" >0</td>\n",
              "      <td id=\"T_96821_row0_col2\" class=\"data row0 col2\" >0</td>\n",
              "      <td id=\"T_96821_row0_col3\" class=\"data row0 col3\" >0</td>\n",
              "      <td id=\"T_96821_row0_col4\" class=\"data row0 col4\" >0</td>\n",
              "      <td id=\"T_96821_row0_col5\" class=\"data row0 col5\" >0</td>\n",
              "      <td id=\"T_96821_row0_col6\" class=\"data row0 col6\" >0</td>\n",
              "      <td id=\"T_96821_row0_col7\" class=\"data row0 col7\" >0</td>\n",
              "      <td id=\"T_96821_row0_col8\" class=\"data row0 col8\" >980</td>\n",
              "      <td id=\"T_96821_row0_col9\" class=\"data row0 col9\" >0</td>\n",
              "    </tr>\n",
              "    <tr>\n",
              "      <th id=\"T_96821_level0_row1\" class=\"row_heading level0 row1\" >Class 1</th>\n",
              "      <td id=\"T_96821_row1_col0\" class=\"data row1 col0\" >0</td>\n",
              "      <td id=\"T_96821_row1_col1\" class=\"data row1 col1\" >0</td>\n",
              "      <td id=\"T_96821_row1_col2\" class=\"data row1 col2\" >0</td>\n",
              "      <td id=\"T_96821_row1_col3\" class=\"data row1 col3\" >0</td>\n",
              "      <td id=\"T_96821_row1_col4\" class=\"data row1 col4\" >0</td>\n",
              "      <td id=\"T_96821_row1_col5\" class=\"data row1 col5\" >0</td>\n",
              "      <td id=\"T_96821_row1_col6\" class=\"data row1 col6\" >0</td>\n",
              "      <td id=\"T_96821_row1_col7\" class=\"data row1 col7\" >0</td>\n",
              "      <td id=\"T_96821_row1_col8\" class=\"data row1 col8\" >1135</td>\n",
              "      <td id=\"T_96821_row1_col9\" class=\"data row1 col9\" >0</td>\n",
              "    </tr>\n",
              "    <tr>\n",
              "      <th id=\"T_96821_level0_row2\" class=\"row_heading level0 row2\" >Class 2</th>\n",
              "      <td id=\"T_96821_row2_col0\" class=\"data row2 col0\" >0</td>\n",
              "      <td id=\"T_96821_row2_col1\" class=\"data row2 col1\" >0</td>\n",
              "      <td id=\"T_96821_row2_col2\" class=\"data row2 col2\" >0</td>\n",
              "      <td id=\"T_96821_row2_col3\" class=\"data row2 col3\" >0</td>\n",
              "      <td id=\"T_96821_row2_col4\" class=\"data row2 col4\" >0</td>\n",
              "      <td id=\"T_96821_row2_col5\" class=\"data row2 col5\" >0</td>\n",
              "      <td id=\"T_96821_row2_col6\" class=\"data row2 col6\" >0</td>\n",
              "      <td id=\"T_96821_row2_col7\" class=\"data row2 col7\" >0</td>\n",
              "      <td id=\"T_96821_row2_col8\" class=\"data row2 col8\" >1032</td>\n",
              "      <td id=\"T_96821_row2_col9\" class=\"data row2 col9\" >0</td>\n",
              "    </tr>\n",
              "    <tr>\n",
              "      <th id=\"T_96821_level0_row3\" class=\"row_heading level0 row3\" >Class 3</th>\n",
              "      <td id=\"T_96821_row3_col0\" class=\"data row3 col0\" >0</td>\n",
              "      <td id=\"T_96821_row3_col1\" class=\"data row3 col1\" >0</td>\n",
              "      <td id=\"T_96821_row3_col2\" class=\"data row3 col2\" >0</td>\n",
              "      <td id=\"T_96821_row3_col3\" class=\"data row3 col3\" >0</td>\n",
              "      <td id=\"T_96821_row3_col4\" class=\"data row3 col4\" >0</td>\n",
              "      <td id=\"T_96821_row3_col5\" class=\"data row3 col5\" >0</td>\n",
              "      <td id=\"T_96821_row3_col6\" class=\"data row3 col6\" >0</td>\n",
              "      <td id=\"T_96821_row3_col7\" class=\"data row3 col7\" >0</td>\n",
              "      <td id=\"T_96821_row3_col8\" class=\"data row3 col8\" >1010</td>\n",
              "      <td id=\"T_96821_row3_col9\" class=\"data row3 col9\" >0</td>\n",
              "    </tr>\n",
              "    <tr>\n",
              "      <th id=\"T_96821_level0_row4\" class=\"row_heading level0 row4\" >Class 4</th>\n",
              "      <td id=\"T_96821_row4_col0\" class=\"data row4 col0\" >0</td>\n",
              "      <td id=\"T_96821_row4_col1\" class=\"data row4 col1\" >0</td>\n",
              "      <td id=\"T_96821_row4_col2\" class=\"data row4 col2\" >0</td>\n",
              "      <td id=\"T_96821_row4_col3\" class=\"data row4 col3\" >0</td>\n",
              "      <td id=\"T_96821_row4_col4\" class=\"data row4 col4\" >0</td>\n",
              "      <td id=\"T_96821_row4_col5\" class=\"data row4 col5\" >0</td>\n",
              "      <td id=\"T_96821_row4_col6\" class=\"data row4 col6\" >0</td>\n",
              "      <td id=\"T_96821_row4_col7\" class=\"data row4 col7\" >0</td>\n",
              "      <td id=\"T_96821_row4_col8\" class=\"data row4 col8\" >982</td>\n",
              "      <td id=\"T_96821_row4_col9\" class=\"data row4 col9\" >0</td>\n",
              "    </tr>\n",
              "    <tr>\n",
              "      <th id=\"T_96821_level0_row5\" class=\"row_heading level0 row5\" >Class 5</th>\n",
              "      <td id=\"T_96821_row5_col0\" class=\"data row5 col0\" >0</td>\n",
              "      <td id=\"T_96821_row5_col1\" class=\"data row5 col1\" >0</td>\n",
              "      <td id=\"T_96821_row5_col2\" class=\"data row5 col2\" >0</td>\n",
              "      <td id=\"T_96821_row5_col3\" class=\"data row5 col3\" >0</td>\n",
              "      <td id=\"T_96821_row5_col4\" class=\"data row5 col4\" >0</td>\n",
              "      <td id=\"T_96821_row5_col5\" class=\"data row5 col5\" >0</td>\n",
              "      <td id=\"T_96821_row5_col6\" class=\"data row5 col6\" >0</td>\n",
              "      <td id=\"T_96821_row5_col7\" class=\"data row5 col7\" >0</td>\n",
              "      <td id=\"T_96821_row5_col8\" class=\"data row5 col8\" >892</td>\n",
              "      <td id=\"T_96821_row5_col9\" class=\"data row5 col9\" >0</td>\n",
              "    </tr>\n",
              "    <tr>\n",
              "      <th id=\"T_96821_level0_row6\" class=\"row_heading level0 row6\" >Class 6</th>\n",
              "      <td id=\"T_96821_row6_col0\" class=\"data row6 col0\" >0</td>\n",
              "      <td id=\"T_96821_row6_col1\" class=\"data row6 col1\" >0</td>\n",
              "      <td id=\"T_96821_row6_col2\" class=\"data row6 col2\" >0</td>\n",
              "      <td id=\"T_96821_row6_col3\" class=\"data row6 col3\" >0</td>\n",
              "      <td id=\"T_96821_row6_col4\" class=\"data row6 col4\" >0</td>\n",
              "      <td id=\"T_96821_row6_col5\" class=\"data row6 col5\" >0</td>\n",
              "      <td id=\"T_96821_row6_col6\" class=\"data row6 col6\" >0</td>\n",
              "      <td id=\"T_96821_row6_col7\" class=\"data row6 col7\" >0</td>\n",
              "      <td id=\"T_96821_row6_col8\" class=\"data row6 col8\" >958</td>\n",
              "      <td id=\"T_96821_row6_col9\" class=\"data row6 col9\" >0</td>\n",
              "    </tr>\n",
              "    <tr>\n",
              "      <th id=\"T_96821_level0_row7\" class=\"row_heading level0 row7\" >Class 7</th>\n",
              "      <td id=\"T_96821_row7_col0\" class=\"data row7 col0\" >0</td>\n",
              "      <td id=\"T_96821_row7_col1\" class=\"data row7 col1\" >0</td>\n",
              "      <td id=\"T_96821_row7_col2\" class=\"data row7 col2\" >0</td>\n",
              "      <td id=\"T_96821_row7_col3\" class=\"data row7 col3\" >0</td>\n",
              "      <td id=\"T_96821_row7_col4\" class=\"data row7 col4\" >0</td>\n",
              "      <td id=\"T_96821_row7_col5\" class=\"data row7 col5\" >0</td>\n",
              "      <td id=\"T_96821_row7_col6\" class=\"data row7 col6\" >0</td>\n",
              "      <td id=\"T_96821_row7_col7\" class=\"data row7 col7\" >0</td>\n",
              "      <td id=\"T_96821_row7_col8\" class=\"data row7 col8\" >1028</td>\n",
              "      <td id=\"T_96821_row7_col9\" class=\"data row7 col9\" >0</td>\n",
              "    </tr>\n",
              "    <tr>\n",
              "      <th id=\"T_96821_level0_row8\" class=\"row_heading level0 row8\" >Class 8</th>\n",
              "      <td id=\"T_96821_row8_col0\" class=\"data row8 col0\" >0</td>\n",
              "      <td id=\"T_96821_row8_col1\" class=\"data row8 col1\" >0</td>\n",
              "      <td id=\"T_96821_row8_col2\" class=\"data row8 col2\" >0</td>\n",
              "      <td id=\"T_96821_row8_col3\" class=\"data row8 col3\" >0</td>\n",
              "      <td id=\"T_96821_row8_col4\" class=\"data row8 col4\" >0</td>\n",
              "      <td id=\"T_96821_row8_col5\" class=\"data row8 col5\" >0</td>\n",
              "      <td id=\"T_96821_row8_col6\" class=\"data row8 col6\" >0</td>\n",
              "      <td id=\"T_96821_row8_col7\" class=\"data row8 col7\" >0</td>\n",
              "      <td id=\"T_96821_row8_col8\" class=\"data row8 col8\" >974</td>\n",
              "      <td id=\"T_96821_row8_col9\" class=\"data row8 col9\" >0</td>\n",
              "    </tr>\n",
              "    <tr>\n",
              "      <th id=\"T_96821_level0_row9\" class=\"row_heading level0 row9\" >Class 9</th>\n",
              "      <td id=\"T_96821_row9_col0\" class=\"data row9 col0\" >0</td>\n",
              "      <td id=\"T_96821_row9_col1\" class=\"data row9 col1\" >0</td>\n",
              "      <td id=\"T_96821_row9_col2\" class=\"data row9 col2\" >0</td>\n",
              "      <td id=\"T_96821_row9_col3\" class=\"data row9 col3\" >0</td>\n",
              "      <td id=\"T_96821_row9_col4\" class=\"data row9 col4\" >0</td>\n",
              "      <td id=\"T_96821_row9_col5\" class=\"data row9 col5\" >0</td>\n",
              "      <td id=\"T_96821_row9_col6\" class=\"data row9 col6\" >0</td>\n",
              "      <td id=\"T_96821_row9_col7\" class=\"data row9 col7\" >0</td>\n",
              "      <td id=\"T_96821_row9_col8\" class=\"data row9 col8\" >1009</td>\n",
              "      <td id=\"T_96821_row9_col9\" class=\"data row9 col9\" >0</td>\n",
              "    </tr>\n",
              "  </tbody>\n",
              "</table>\n"
            ]
          },
          "metadata": {}
        }
      ]
    }
  ]
}